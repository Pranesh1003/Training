{
 "cells": [
  {
   "cell_type": "code",
   "execution_count": 1,
   "metadata": {},
   "outputs": [
    {
     "name": "stdout",
     "output_type": "stream",
     "text": [
      "[1, 2, 3]\n",
      "[1, 2, 3, 4]\n"
     ]
    }
   ],
   "source": [
    "#List\n",
    "list = [1,2,3]\n",
    "print(list)\n",
    "list.append(4)\n",
    "print(list)"
   ]
  },
  {
   "cell_type": "code",
   "execution_count": 4,
   "metadata": {},
   "outputs": [
    {
     "name": "stdout",
     "output_type": "stream",
     "text": [
      "{10, 298, 106}\n"
     ]
    }
   ],
   "source": [
    "#Set\n",
    "set={10,106,298}\n",
    "print(set)"
   ]
  },
  {
   "cell_type": "code",
   "execution_count": 5,
   "metadata": {},
   "outputs": [
    {
     "name": "stdout",
     "output_type": "stream",
     "text": [
      "(13, 19, 21)\n"
     ]
    }
   ],
   "source": [
    "#tuple\n",
    "tuple=(13,19,21)\n",
    "print(tuple)"
   ]
  },
  {
   "cell_type": "code",
   "execution_count": 7,
   "metadata": {},
   "outputs": [
    {
     "name": "stdout",
     "output_type": "stream",
     "text": [
      "{'a': 20, 'b': 22, 'c': 3}\n",
      "dict_keys(['a', 'b', 'c'])\n",
      "dict_values([20, 22, 3])\n"
     ]
    }
   ],
   "source": [
    "#Dictionary\n",
    "dict = {\"a\":20,\"b\":22,\"c\":3}\n",
    "print(dict)\n",
    "print(dict.keys())\n",
    "print(dict.values())"
   ]
  }
 ],
 "metadata": {
  "kernelspec": {
   "display_name": "Python 3",
   "language": "python",
   "name": "python3"
  },
  "language_info": {
   "codemirror_mode": {
    "name": "ipython",
    "version": 3
   },
   "file_extension": ".py",
   "mimetype": "text/x-python",
   "name": "python",
   "nbconvert_exporter": "python",
   "pygments_lexer": "ipython3",
   "version": "3.11.7"
  }
 },
 "nbformat": 4,
 "nbformat_minor": 2
}
