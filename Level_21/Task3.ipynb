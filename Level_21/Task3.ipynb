{
 "cells": [
  {
   "cell_type": "code",
   "execution_count": 24,
   "id": "a69452d2",
   "metadata": {},
   "outputs": [],
   "source": [
    "import pandas as pd\n",
    "import numpy as np\n",
    "import tensorflow as tf\n",
    "from sklearn.model_selection import train_test_split\n",
    "from sklearn.preprocessing import StandardScaler\n",
    "from sklearn.metrics import mean_squared_error\n",
    "import matplotlib.pyplot as plt"
   ]
  },
  {
   "cell_type": "code",
   "execution_count": 25,
   "id": "2c80ed25",
   "metadata": {},
   "outputs": [],
   "source": [
    "tf.random.set_seed(42)\n",
    "np.random.seed(42)"
   ]
  },
  {
   "cell_type": "code",
   "execution_count": 26,
   "id": "73d8b906",
   "metadata": {},
   "outputs": [],
   "source": [
    "url = \"https://raw.githubusercontent.com/ageron/handson-ml2/master/datasets/housing/housing.csv\"\n",
    "data = pd.read_csv(url)"
   ]
  },
  {
   "cell_type": "code",
   "execution_count": 27,
   "id": "c36b8f25",
   "metadata": {},
   "outputs": [],
   "source": [
    "data = data.dropna()"
   ]
  },
  {
   "cell_type": "code",
   "execution_count": 28,
   "id": "aace24e7",
   "metadata": {},
   "outputs": [],
   "source": [
    "data = pd.get_dummies(data, columns=['ocean_proximity'], drop_first=True)"
   ]
  },
  {
   "cell_type": "code",
   "execution_count": 29,
   "id": "86c4b679",
   "metadata": {},
   "outputs": [],
   "source": [
    "X = data.drop('median_house_value', axis=1)\n",
    "y = data['median_house_value']"
   ]
  },
  {
   "cell_type": "code",
   "execution_count": 30,
   "id": "fba2a89e",
   "metadata": {},
   "outputs": [],
   "source": [
    "scaler = StandardScaler()\n",
    "X_scaled = scaler.fit_transform(X)"
   ]
  },
  {
   "cell_type": "code",
   "execution_count": 31,
   "id": "d6633829",
   "metadata": {},
   "outputs": [],
   "source": [
    "X_train, X_test, y_train, y_test = train_test_split(X_scaled, y, test_size=0.2, random_state=42)"
   ]
  },
  {
   "cell_type": "code",
   "execution_count": 32,
   "id": "862f9a69",
   "metadata": {},
   "outputs": [],
   "source": [
    "X_train = tf.constant(X_train, dtype=tf.float32)\n",
    "X_test = tf.constant(X_test, dtype=tf.float32)\n",
    "y_train = tf.constant(y_train, dtype=tf.float32)\n",
    "y_test = tf.constant(y_test, dtype=tf.float32)"
   ]
  },
  {
   "cell_type": "code",
   "execution_count": 33,
   "id": "aec44f0a",
   "metadata": {},
   "outputs": [],
   "source": [
    "def weighted_mse_loss(y_true, y_pred):\n",
    "    sorted_y = tf.sort(y_true)\n",
    "    n = tf.shape(sorted_y)[0]\n",
    "    mid = n // 2\n",
    "    median = tf.cond(\n",
    "        tf.math.mod(n, 2) == 0,\n",
    "        lambda: (sorted_y[mid-1] + sorted_y[mid]) / 2.0,\n",
    "        lambda: sorted_y[mid]\n",
    "    )\n",
    "    weights = tf.where(y_true > median, 2.0, 1.0)\n",
    "    squared_error = tf.square(y_true - y_pred)\n",
    "    weighted_error = squared_error * weights\n",
    "    return tf.reduce_mean(weighted_error)"
   ]
  },
  {
   "cell_type": "code",
   "execution_count": 34,
   "id": "91eeaa66",
   "metadata": {},
   "outputs": [],
   "source": [
    "model = tf.keras.Sequential([\n",
    "    tf.keras.layers.Dense(64, activation='relu', input_shape=(X_train.shape[1],)),\n",
    "    tf.keras.layers.Dense(1)\n",
    "])"
   ]
  },
  {
   "cell_type": "code",
   "execution_count": 35,
   "id": "91479dff",
   "metadata": {},
   "outputs": [],
   "source": [
    "model.compile(optimizer='adam', loss=weighted_mse_loss, metrics=['mse'])"
   ]
  },
  {
   "cell_type": "code",
   "execution_count": 36,
   "id": "03689a34",
   "metadata": {},
   "outputs": [
    {
     "name": "stdout",
     "output_type": "stream",
     "text": [
      "Epoch 1/10\n",
      "WARNING:tensorflow:From c:\\Users\\madhu\\AppData\\Local\\Programs\\Python\\Python311\\Lib\\site-packages\\keras\\src\\utils\\tf_utils.py:492: The name tf.ragged.RaggedTensorValue is deprecated. Please use tf.compat.v1.ragged.RaggedTensorValue instead.\n",
      "\n",
      "WARNING:tensorflow:From c:\\Users\\madhu\\AppData\\Local\\Programs\\Python\\Python311\\Lib\\site-packages\\keras\\src\\engine\\base_layer_utils.py:384: The name tf.executing_eagerly_outside_functions is deprecated. Please use tf.compat.v1.executing_eagerly_outside_functions instead.\n",
      "\n",
      "409/409 [==============================] - 21s 26ms/step - loss: 98980331520.0000 - mse: 55820984320.0000 - val_loss: 99505086464.0000 - val_mse: 56370794496.0000\n",
      "Epoch 2/10\n",
      "409/409 [==============================] - 7s 18ms/step - loss: 99451797504.0000 - mse: 55782985728.0000 - val_loss: 99401179136.0000 - val_mse: 56310370304.0000\n",
      "Epoch 3/10\n",
      "409/409 [==============================] - 8s 18ms/step - loss: 98804547584.0000 - mse: 55701188608.0000 - val_loss: 99229032448.0000 - val_mse: 56210452480.0000\n",
      "Epoch 4/10\n",
      "409/409 [==============================] - 8s 20ms/step - loss: 98714648576.0000 - mse: 55583330304.0000 - val_loss: 98999590912.0000 - val_mse: 56077402112.0000\n",
      "Epoch 5/10\n",
      "409/409 [==============================] - 8s 20ms/step - loss: 98786713600.0000 - mse: 55433744384.0000 - val_loss: 98718154752.0000 - val_mse: 55914192896.0000\n",
      "Epoch 6/10\n",
      "409/409 [==============================] - 8s 19ms/step - loss: 98122924032.0000 - mse: 55255756800.0000 - val_loss: 98394636288.0000 - val_mse: 55726723072.0000\n",
      "Epoch 7/10\n",
      "409/409 [==============================] - 8s 21ms/step - loss: 97102766080.0000 - mse: 55055257600.0000 - val_loss: 98031706112.0000 - val_mse: 55516536832.0000\n",
      "Epoch 8/10\n",
      "409/409 [==============================] - 8s 19ms/step - loss: 97239064576.0000 - mse: 54829707264.0000 - val_loss: 97625104384.0000 - val_mse: 55281131520.0000\n",
      "Epoch 9/10\n",
      "409/409 [==============================] - 8s 18ms/step - loss: 97848221696.0000 - mse: 54578044928.0000 - val_loss: 97173807104.0000 - val_mse: 55019872256.0000\n",
      "Epoch 10/10\n",
      "409/409 [==============================] - 8s 20ms/step - loss: 96816349184.0000 - mse: 54304235520.0000 - val_loss: 96687104000.0000 - val_mse: 54738300928.0000\n"
     ]
    }
   ],
   "source": [
    "history = model.fit(X_train, y_train, epochs=10, batch_size=32, validation_split=0.2, verbose=1)"
   ]
  },
  {
   "cell_type": "code",
   "execution_count": 37,
   "id": "12d7b2a2",
   "metadata": {},
   "outputs": [
    {
     "name": "stdout",
     "output_type": "stream",
     "text": [
      "128/128 [==============================] - 2s 12ms/step\n"
     ]
    }
   ],
   "source": [
    "y_pred = model.predict(X_test)\n",
    "y_pred = y_pred.flatten()\n",
    "y_test_np = y_test.numpy()"
   ]
  },
  {
   "cell_type": "code",
   "execution_count": 38,
   "id": "72745889",
   "metadata": {},
   "outputs": [],
   "source": [
    "standard_mse = mean_squared_error(y_test_np, y_pred)"
   ]
  },
  {
   "cell_type": "code",
   "execution_count": 39,
   "id": "ab7d5bc1",
   "metadata": {},
   "outputs": [],
   "source": [
    "custom_loss = weighted_mse_loss(y_test, tf.constant(y_pred, dtype=tf.float32)).numpy()"
   ]
  },
  {
   "cell_type": "code",
   "execution_count": 40,
   "id": "7196a273",
   "metadata": {},
   "outputs": [],
   "source": [
    "results = pd.DataFrame({\n",
    "    'Loss Type': ['Custom Weighted MSE', 'Standard MSE'],\n",
    "    'Value': [custom_loss, standard_mse]\n",
    "})"
   ]
  },
  {
   "cell_type": "code",
   "execution_count": 41,
   "id": "1e0664f1",
   "metadata": {},
   "outputs": [
    {
     "name": "stdout",
     "output_type": "stream",
     "text": [
      "\n",
      "Loss Comparison Table:\n",
      "             Loss Type         Value\n",
      "0  Custom Weighted MSE  1.029055e+11\n",
      "1         Standard MSE  5.513429e+10\n"
     ]
    }
   ],
   "source": [
    "print(\"\\nLoss Comparison Table:\")\n",
    "print(results)"
   ]
  },
  {
   "cell_type": "code",
   "execution_count": 42,
   "id": "41790853",
   "metadata": {},
   "outputs": [
    {
     "data": {
      "text/plain": [
       "<matplotlib.legend.Legend at 0x26efeb94f90>"
      ]
     },
     "execution_count": 42,
     "metadata": {},
     "output_type": "execute_result"
    },
    {
     "data": {
      "image/png": "[encoded data removed]",
      "text/plain": [
       "<Figure size 640x480 with 1 Axes>"
      ]
     },
     "metadata": {},
     "output_type": "display_data"
    }
   ],
   "source": [
    "plt.plot(history.history['loss'], label='Training Custom Loss')\n",
    "plt.plot(history.history['val_loss'], label='Validation Custom Loss')\n",
    "plt.xlabel('Epoch')\n",
    "plt.ylabel('Loss')\n",
    "plt.legend()"
   ]
  }
 ],
 "metadata": {
  "kernelspec": {
   "display_name": "Python 3",
   "language": "python",
   "name": "python3"
  },
  "language_info": {
   "codemirror_mode": {
    "name": "ipython",
    "version": 3
   },
   "file_extension": ".py",
   "mimetype": "text/x-python",
   "name": "python",
   "nbconvert_exporter": "python",
   "pygments_lexer": "ipython3",
   "version": "3.11.7"
  }
 },
 "nbformat": 4,
 "nbformat_minor": 5
}
