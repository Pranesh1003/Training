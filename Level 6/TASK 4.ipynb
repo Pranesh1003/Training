{
 "cells": [
  {
   "cell_type": "code",
   "execution_count": 2,
   "id": "ac42aba0-b2bd-4a0c-bf7b-839810f51554",
   "metadata": {},
   "outputs": [],
   "source": [
    "import pandas as pd"
   ]
  },
  {
   "cell_type": "code",
   "execution_count": 3,
   "id": "d0c48134-2ef7-4073-87b7-ed829bb5bd7f",
   "metadata": {},
   "outputs": [],
   "source": [
    "data = {\n",
    "    \"Number_of_Pets\": [1, 3, 2, 0, 4],\n",
    "    \"Blood_Type\": [\"A\", \"B\", \"O\", \"AB\", \"A\"], \n",
    "    \"Weight_kg\": [55.5, 70.2, 65.0, 80.1, 45.8], \n",
    "    \"Satisfaction_Level\": [\"Low\", \"Medium\", \"High\", \"Low\", \"High\"]  \n",
    "}\n",
    "\n",
    "df = pd.DataFrame(data)"
   ]
  },
  {
   "cell_type": "code",
   "execution_count": 4,
   "id": "03e28816",
   "metadata": {},
   "outputs": [],
   "source": [
    "def classify_variable(var_name, values):\n",
    "    if isinstance(values[0], (int, float)):  \n",
    "        if all(isinstance(v, int) for v in values):\n",
    "            return \"Quantitative - Discrete\"\n",
    "        else:\n",
    "            return \"Quantitative - Continuous\"\n",
    "    else:\n",
    "        return \"Qualitative - Categorical\""
   ]
  },
  {
   "cell_type": "code",
   "execution_count": 5,
   "id": "38d33528",
   "metadata": {},
   "outputs": [],
   "source": [
    "variable_types = {col: classify_variable(col, df[col].tolist()) for col in df.columns}"
   ]
  },
  {
   "cell_type": "code",
   "execution_count": 6,
   "id": "f6e4cb15",
   "metadata": {},
   "outputs": [
    {
     "name": "stdout",
     "output_type": "stream",
     "text": [
      "Dataset:\n",
      "    Number_of_Pets Blood_Type  Weight_kg Satisfaction_Level\n",
      "0               1          A       55.5                Low\n",
      "1               3          B       70.2             Medium\n",
      "2               2          O       65.0               High\n",
      "3               0         AB       80.1                Low\n",
      "4               4          A       45.8               High\n",
      "\n",
      "Variable Classification:\n",
      "Number_of_Pets: Quantitative - Discrete\n",
      "Blood_Type: Qualitative - Categorical\n",
      "Weight_kg: Quantitative - Continuous\n",
      "Satisfaction_Level: Qualitative - Categorical\n"
     ]
    }
   ],
   "source": [
    "print(\"Dataset:\\n\", df)\n",
    "print(\"\\nVariable Classification:\")\n",
    "for var, var_type in variable_types.items():\n",
    "    print(f\"{var}: {var_type}\")"
   ]
  },
  {
   "cell_type": "code",
   "execution_count": null,
   "id": "e620b073",
   "metadata": {},
   "outputs": [],
   "source": []
  }
 ],
 "metadata": {
  "kernelspec": {
   "display_name": "Python 3",
   "language": "python",
   "name": "python3"
  },
  "language_info": {
   "codemirror_mode": {
    "name": "ipython",
    "version": 3
   },
   "file_extension": ".py",
   "mimetype": "text/x-python",
   "name": "python",
   "nbconvert_exporter": "python",
   "pygments_lexer": "ipython3",
   "version": "3.11.7"
  }
 },
 "nbformat": 4,
 "nbformat_minor": 5
}
