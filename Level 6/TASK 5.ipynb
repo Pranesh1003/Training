{
 "cells": [
  {
   "cell_type": "code",
   "execution_count": 1,
   "id": "052b3c39-8943-474e-9034-1b18747023bf",
   "metadata": {},
   "outputs": [],
   "source": [
    "import matplotlib.pyplot as plt\n",
    "import seaborn as sns\n",
    "from statistics import mean, median, mode"
   ]
  },
  {
   "cell_type": "code",
   "execution_count": 3,
   "id": "ec350c24-22ca-44d3-bd8b-4a85a587c6cb",
   "metadata": {},
   "outputs": [
    {
     "name": "stdout",
     "output_type": "stream",
     "text": [
      "Mean: 21\n",
      "Median: 5.5\n",
      "Mode: 5\n"
     ]
    }
   ],
   "source": [
    "data = [3, 5, 5, 6, 7, 100]\n",
    "\n",
    "mean_value = mean(data)\n",
    "median_value = median(data)\n",
    "mode_value = mode(data)\n",
    "\n",
    "print(f\"Mean: {mean_value}\")\n",
    "print(f\"Median: {median_value}\")\n",
    "print(f\"Mode: {mode_value}\")\n",
    "\n"
   ]
  },
  {
   "cell_type": "code",
   "execution_count": 4,
   "id": "163ca7b4-eaf5-4b46-8ba3-bbb1d9b63503",
   "metadata": {},
   "outputs": [
    {
     "name": "stdout",
     "output_type": "stream",
     "text": [
      "\n",
      "Interpretation:\n",
      "The mean is significantly higher (≈ 21) due to the outlier (100),\n",
      "while the median (5.5) and mode (5) better reflect the central trend of the data.\n"
     ]
    }
   ],
   "source": [
    "print(\"\\nInterpretation:\")\n",
    "print(\"The mean is significantly higher (≈ 21) due to the outlier (100),\")\n",
    "print(\"while the median (5.5) and mode (5) better reflect the central trend of the data.\")"
   ]
  },
  {
   "cell_type": "code",
   "execution_count": 5,
   "id": "76b1a357-bc2a-4e3a-8af5-ad52c75304e0",
   "metadata": {},
   "outputs": [
    {
     "data": {
      "text/plain": [
       "<matplotlib.legend.Legend at 0x182888f5b10>"
      ]
     },
     "execution_count": 5,
     "metadata": {},
     "output_type": "execute_result"
    },
    {
     "data": {
      "image/png": "[encoded data removed]",
      "text/plain": [
       "<Figure size 600x400 with 1 Axes>"
      ]
     },
     "metadata": {},
     "output_type": "display_data"
    }
   ],
   "source": [
    "plt.figure(figsize=(6, 4))\n",
    "sns.boxplot(data, color='lightblue', width=0.3)\n",
    "plt.axhline(mean_value, color='red', linestyle='--', label=f'Mean: {mean_value:.2f}')\n",
    "plt.axhline(median_value, color='green', linestyle='-', label=f'Median: {median_value}')\n",
    "plt.title(\"Box Plot Showing Outliers\")\n",
    "plt.ylabel(\"Values\")\n",
    "plt.legend()"
   ]
  },
  {
   "cell_type": "code",
   "execution_count": null,
   "id": "e2a3ea8d-12ac-4bda-856b-c9915ad0b036",
   "metadata": {},
   "outputs": [],
   "source": []
  }
 ],
 "metadata": {
  "kernelspec": {
   "display_name": "Python 3",
   "language": "python",
   "name": "python3"
  },
  "language_info": {
   "codemirror_mode": {
    "name": "ipython",
    "version": 3
   },
   "file_extension": ".py",
   "mimetype": "text/x-python",
   "name": "python",
   "nbconvert_exporter": "python",
   "pygments_lexer": "ipython3",
   "version": "3.11.7"
  }
 },
 "nbformat": 4,
 "nbformat_minor": 5
}
